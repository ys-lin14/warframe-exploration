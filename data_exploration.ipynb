{
 "cells": [
  {
   "cell_type": "code",
   "execution_count": 1,
   "metadata": {},
   "outputs": [],
   "source": [
    "import sqlalchemy\n",
    "import numpy as np\n",
    "import pandas as pd\n",
    "import re\n",
    "import matplotlib.pyplot as plt\n",
    "import seaborn as sns\n",
    "from wordcloud import WordCloud\n",
    "from database_credentials import get_database_url"
   ]
  },
  {
   "cell_type": "code",
   "execution_count": 2,
   "metadata": {},
   "outputs": [],
   "source": [
    "plt.style.use('ggplot')"
   ]
  },
  {
   "cell_type": "code",
   "execution_count": 12,
   "metadata": {},
   "outputs": [],
   "source": [
    "def check_for_missing_values(data):\n",
    "    '''Print whether or not data contains missing data \n",
    "    along with the number of missing entries\n",
    "    \n",
    "    Args:\n",
    "        data (dataframe): dataframe to be checked\n",
    "        \n",
    "    Returns:\n",
    "        None\n",
    "    '''\n",
    "    \n",
    "    valid_mask = data.isnull()\n",
    "    data_contains_missing_values = valid_mask.any().any()\n",
    "    print(\"Contains missing values:\", data_contains_missing_values)\n",
    "\n",
    "    if (data_contains_missing_values):\n",
    "        number_of_missing_values = valid_mask.sum().sum()\n",
    "        print(\"Number of missing values:\", number_of_missing_values)\n",
    "    \n",
    "def check_for_duplicate_ids(data):\n",
    "    '''Print whether or not data contains duplicate \n",
    "    Steam IDs along with the number of duplicates\n",
    "    \n",
    "    Args:\n",
    "        data (dataframe): dataframe to be checked\n",
    "        \n",
    "    Returns:\n",
    "        None\n",
    "    '''\n",
    "    \n",
    "    unique_id_mask = data['steam_id'].duplicated()\n",
    "    data_contains_duplicates = unique_id_mask.any()\n",
    "    print(\"\\nContains duplicate Steam IDs:\", data_contains_duplicates)\n",
    "\n",
    "    if (data_contains_duplicates):\n",
    "        number_of_duplicates = len(data[unique_id_mask])\n",
    "        print(\"Number of duplicate Steam IDs:\", number_of_duplicates)\n",
    "        \n",
    "def display_info(data):\n",
    "    '''Display the column names, number of rows, and information \n",
    "    regarding missing or duplicate values for a dataframe\n",
    "    \n",
    "    Args:\n",
    "        data (dataframe): dataframe for which information will\n",
    "                          be displayed\n",
    "    Returns:\n",
    "        None\n",
    "    '''\n",
    "    \n",
    "    print(\"Column Name and Types:\\n{0}\\n\".format(data.dtypes))\n",
    "    print(\"Number of rows: {0}\\n\".format(data.shape[0]))\n",
    "    check_for_missing_values(data)\n",
    "        \n",
    "def mask_duplicate_ids(data):\n",
    "    '''Mask rows containing duplicate Steam IDs\n",
    "    \n",
    "    Args:\n",
    "        data (dataframe): dataframe with duplicate Steam IDs\n",
    "\n",
    "    Returns:\n",
    "        masked_data (dataframe): a copy of data without duplicate\n",
    "                                 Steam IDs\n",
    "    '''\n",
    "    \n",
    "    duplicate_id_mask = ~data['steam_id'].duplicated()\n",
    "    masked_data = data[duplicate_id_mask]\n",
    "    return masked_data\n",
    "\n",
    "def get_review_rating(review):\n",
    "    '''Get the rating from review if applicable\n",
    "    \n",
    "    Args: \n",
    "        review (str): Steam review\n",
    "        \n",
    "    Returns:\n",
    "        rating_numerator (float/None): rating within the review\n",
    "    '''\n",
    "    \n",
    "    rating_numerator = None\n",
    "    match = re.search(r'\\d+(\\.\\d+)?/10', review)\n",
    "    if (match):\n",
    "        rating = match[0]\n",
    "        split_rating = rating.split('/')\n",
    "        rating_numerator = float(split_rating[0])\n",
    "        \n",
    "    return rating_numerator\n",
    "\n",
    "def round_rating(rating):\n",
    "    '''Round rating to the nearest integer\n",
    "    \n",
    "    Args:\n",
    "        rating (float): rating to be rounded\n",
    "        \n",
    "    Returns:\n",
    "        rounded_rating (float): rating rounded to nearest integer\n",
    "    '''\n",
    "    \n",
    "    rounded_rating = round(rating, 0)\n",
    "    return rounded_rating\n",
    "\n",
    "def graph_word_cloud(corpus):\n",
    "    \"\"\"Graph a word cloud based on corpus\n",
    "    \n",
    "    Args:\n",
    "        corpus (str): contains the text data\n",
    "    \n",
    "    Returns:\n",
    "        None\n",
    "    \"\"\"\n",
    "    \n",
    "    word_cloud = WordCloud(width=1600, height=800, collocations=False).generate(corpus)\n",
    "    plt.figure(figsize=(20,20))\n",
    "    plt.imshow(word_cloud)\n",
    "    plt.axis(\"off\")\n",
    "    plt.show()\n",
    "    \n",
    "def get_percentage_change(initial_value, final_value):\n",
    "    change = (initial_value - final_value) / initial_value\n",
    "    percentage_change = round(change * 100, 2)\n",
    "    return percentage_change"
   ]
  },
  {
   "cell_type": "code",
   "execution_count": 4,
   "metadata": {},
   "outputs": [],
   "source": [
    "# connect to database\n",
    "database_url = get_database_url()\n",
    "engine = sqlalchemy.create_engine(database_url)\n",
    "connection = engine.connect() "
   ]
  },
  {
   "cell_type": "code",
   "execution_count": 5,
   "metadata": {},
   "outputs": [],
   "source": [
    "# load data\n",
    "review_query = '''\n",
    "    SELECT \n",
    "        steam_id,\n",
    "        user_review,\n",
    "        FROM_UNIXTIME(timestamp_updated) AS timestamp_updated,\n",
    "        recommends_game\n",
    "    FROM reviews;\n",
    "'''\n",
    "review_data = pd.read_sql(review_query, connection)\n",
    "\n",
    "user_query = '''\n",
    "    SELECT \n",
    "        steam_id,\n",
    "        CEIL(total_minutes_played / 60) AS total_hours_played,\n",
    "        FROM_UNIXTIME(timestamp_last_played) AS timestamp_last_played\n",
    "    FROM users;\n",
    "'''\n",
    "user_data = pd.read_sql(user_query, connection)"
   ]
  },
  {
   "cell_type": "markdown",
   "metadata": {},
   "source": [
    "I first start by getting a feel for the review and user data."
   ]
  },
  {
   "cell_type": "code",
   "execution_count": 6,
   "metadata": {},
   "outputs": [
    {
     "data": {
      "text/html": [
       "<div>\n",
       "<style scoped>\n",
       "    .dataframe tbody tr th:only-of-type {\n",
       "        vertical-align: middle;\n",
       "    }\n",
       "\n",
       "    .dataframe tbody tr th {\n",
       "        vertical-align: top;\n",
       "    }\n",
       "\n",
       "    .dataframe thead th {\n",
       "        text-align: right;\n",
       "    }\n",
       "</style>\n",
       "<table border=\"1\" class=\"dataframe\">\n",
       "  <thead>\n",
       "    <tr style=\"text-align: right;\">\n",
       "      <th></th>\n",
       "      <th>steam_id</th>\n",
       "      <th>user_review</th>\n",
       "      <th>timestamp_updated</th>\n",
       "      <th>recommends_game</th>\n",
       "    </tr>\n",
       "  </thead>\n",
       "  <tbody>\n",
       "    <tr>\n",
       "      <th>0</th>\n",
       "      <td>76561198109804262</td>\n",
       "      <td>The Game is smooth with great graphics. It sho...</td>\n",
       "      <td>2015-01-14 08:40:12</td>\n",
       "      <td>1</td>\n",
       "    </tr>\n",
       "    <tr>\n",
       "      <th>1</th>\n",
       "      <td>76561198144109929</td>\n",
       "      <td>AMAZING Best thing ever. Great graphics for a ...</td>\n",
       "      <td>2015-01-14 06:02:29</td>\n",
       "      <td>1</td>\n",
       "    </tr>\n",
       "    <tr>\n",
       "      <th>2</th>\n",
       "      <td>76561198074106169</td>\n",
       "      <td>Best f2p game out there</td>\n",
       "      <td>2015-01-14 03:20:10</td>\n",
       "      <td>1</td>\n",
       "    </tr>\n",
       "  </tbody>\n",
       "</table>\n",
       "</div>"
      ],
      "text/plain": [
       "            steam_id                                        user_review  \\\n",
       "0  76561198109804262  The Game is smooth with great graphics. It sho...   \n",
       "1  76561198144109929  AMAZING Best thing ever. Great graphics for a ...   \n",
       "2  76561198074106169                            Best f2p game out there   \n",
       "\n",
       "    timestamp_updated  recommends_game  \n",
       "0 2015-01-14 08:40:12                1  \n",
       "1 2015-01-14 06:02:29                1  \n",
       "2 2015-01-14 03:20:10                1  "
      ]
     },
     "metadata": {},
     "output_type": "display_data"
    },
    {
     "name": "stdout",
     "output_type": "stream",
     "text": [
      "Column Name and Types:\n",
      "steam_id                     object\n",
      "user_review                  object\n",
      "timestamp_updated    datetime64[ns]\n",
      "recommends_game               int64\n",
      "dtype: object\n",
      "\n",
      "Number of rows: 149999\n",
      "\n",
      "Contains missing values: False\n",
      "\n",
      "Contains duplicate Steam IDs: True\n",
      "Number of duplicate Steam IDs: 3\n"
     ]
    }
   ],
   "source": [
    "display(review_data.head(3))\n",
    "display_info(review_data)\n",
    "check_for_duplicate_ids(review_data)"
   ]
  },
  {
   "cell_type": "code",
   "execution_count": 7,
   "metadata": {
    "scrolled": false
   },
   "outputs": [
    {
     "data": {
      "text/html": [
       "<div>\n",
       "<style scoped>\n",
       "    .dataframe tbody tr th:only-of-type {\n",
       "        vertical-align: middle;\n",
       "    }\n",
       "\n",
       "    .dataframe tbody tr th {\n",
       "        vertical-align: top;\n",
       "    }\n",
       "\n",
       "    .dataframe thead th {\n",
       "        text-align: right;\n",
       "    }\n",
       "</style>\n",
       "<table border=\"1\" class=\"dataframe\">\n",
       "  <thead>\n",
       "    <tr style=\"text-align: right;\">\n",
       "      <th></th>\n",
       "      <th>steam_id</th>\n",
       "      <th>total_hours_played</th>\n",
       "      <th>timestamp_last_played</th>\n",
       "    </tr>\n",
       "  </thead>\n",
       "  <tbody>\n",
       "    <tr>\n",
       "      <th>0</th>\n",
       "      <td>76561198109804262</td>\n",
       "      <td>1007</td>\n",
       "      <td>2019-05-07 04:44:48</td>\n",
       "    </tr>\n",
       "    <tr>\n",
       "      <th>1</th>\n",
       "      <td>76561198144109929</td>\n",
       "      <td>157</td>\n",
       "      <td>2020-01-07 19:00:17</td>\n",
       "    </tr>\n",
       "    <tr>\n",
       "      <th>2</th>\n",
       "      <td>76561198074106169</td>\n",
       "      <td>238</td>\n",
       "      <td>2019-10-25 14:07:33</td>\n",
       "    </tr>\n",
       "  </tbody>\n",
       "</table>\n",
       "</div>"
      ],
      "text/plain": [
       "            steam_id  total_hours_played timestamp_last_played\n",
       "0  76561198109804262                1007   2019-05-07 04:44:48\n",
       "1  76561198144109929                 157   2020-01-07 19:00:17\n",
       "2  76561198074106169                 238   2019-10-25 14:07:33"
      ]
     },
     "metadata": {},
     "output_type": "display_data"
    },
    {
     "name": "stdout",
     "output_type": "stream",
     "text": [
      "Column Name and Types:\n",
      "steam_id                         object\n",
      "total_hours_played                int64\n",
      "timestamp_last_played    datetime64[ns]\n",
      "dtype: object\n",
      "\n",
      "Number of rows: 149999\n",
      "\n",
      "Contains missing values: False\n",
      "\n",
      "Contains duplicate Steam IDs: True\n",
      "Number of duplicate Steam IDs: 3\n"
     ]
    }
   ],
   "source": [
    "display(user_data.head(3))\n",
    "display_info(user_data)\n",
    "check_for_duplicate_ids(review_data)"
   ]
  },
  {
   "cell_type": "markdown",
   "metadata": {},
   "source": [
    "Then get rid of duplicate Steam IDs using boolean masks, extract ratings from reviews and trim ratings greater than twelve (approximately 4% of the ratings) to deal with sparse ratings along with extreme outliers."
   ]
  },
  {
   "cell_type": "code",
   "execution_count": 8,
   "metadata": {},
   "outputs": [],
   "source": [
    "review_data = mask_duplicate_ids(review_data)\n",
    "user_data = mask_duplicate_ids(user_data)"
   ]
  },
  {
   "cell_type": "code",
   "execution_count": 9,
   "metadata": {},
   "outputs": [],
   "source": [
    "review_data['rating'] = review_data['user_review'].apply(get_review_rating)\n",
    "reviews_with_ratings = review_data.dropna()\n",
    "outlier_rating_mask = (reviews_with_ratings['rating'] < 13)\n",
    "trimmed_reviews = reviews_with_ratings[outlier_rating_mask]"
   ]
  },
  {
   "cell_type": "code",
   "execution_count": 16,
   "metadata": {
    "scrolled": true
   },
   "outputs": [
    {
     "name": "stdout",
     "output_type": "stream",
     "text": [
      "Ratings before trimming: 10357\n",
      "Ratings after trimming: 9953\n",
      "Percentage of ratings trimmed: 3.9\n"
     ]
    }
   ],
   "source": [
    "number_ratings_initial = reviews_with_ratings.shape[0]\n",
    "number_ratings_final = trimmed_reviews.shape[0]\n",
    "percentage_ratings_trimmed = get_percentage_change(\n",
    "    number_ratings_initial,\n",
    "    number_ratings_final\n",
    ")\n",
    "\n",
    "print(\"Ratings before trimming:\", number_ratings_initial)\n",
    "print(\"Ratings after trimming:\", number_ratings_final)\n",
    "print(\"Percentage of ratings trimmed:\", percentage_ratings_trimmed)"
   ]
  },
  {
   "cell_type": "markdown",
   "metadata": {},
   "source": [
    "Display the review containing the most extreme outlier"
   ]
  },
  {
   "cell_type": "code",
   "execution_count": 17,
   "metadata": {},
   "outputs": [
    {
     "data": {
      "text/plain": [
       "'Best Game I have Played 2SPOOKY4ME 99999999999999999999999999999999999999999999999999999999999999999999999999999999999999999999999999999999999999999999999999999999999999999999999999999999999999999999999999999999999999999999999999999999999999999999999999999999999999999999999999999999999999999999999999999999999999999999999999999999999999999999999999999999999999999999999999999999999999999999999999999999999999999999999999999999999999999999999999999999999999999999999999999999999999999999999999999999999999999999999999999999999999999999999999999999999999999999999999999999999999999999999999999999999999999999999999999999999999999999999999999999999999999999999999999999999999999999999/10'"
      ]
     },
     "execution_count": 17,
     "metadata": {},
     "output_type": "execute_result"
    }
   ],
   "source": [
    "ratings = reviews_with_ratings['rating']\n",
    "outlier_index = reviews_with_ratings[np.isinf(ratings)].index[0]\n",
    "reviews_with_ratings.loc[outlier_index, 'user_review']"
   ]
  },
  {
   "cell_type": "markdown",
   "metadata": {},
   "source": [
    "I use the ratings as they are to create a violinplot while rounding the ratings used for\n",
    "the countplot to reduce the number of bins."
   ]
  },
  {
   "cell_type": "code",
   "execution_count": 22,
   "metadata": {},
   "outputs": [
    {
     "data": {
      "image/png": "[encoded data removed]",
      "text/plain": [
       "<Figure size 864x360 with 2 Axes>"
      ]
     },
     "metadata": {},
     "output_type": "display_data"
    }
   ],
   "source": [
    "fig, axes = plt.subplots(\n",
    "    nrows=1, \n",
    "    ncols=2, \n",
    "    figsize=(12, 5), \n",
    "    squeeze=False\n",
    ")\n",
    "plt.subplots_adjust(wspace=0.4, hspace=0.4)\n",
    "axes = axes.flatten()\n",
    "\n",
    "rating_violin = sns.violinplot(\n",
    "    x=trimmed_reviews['rating'], \n",
    "    ax=axes[0]\n",
    ")\n",
    "rating_violin.set(xlabel='Rating')\n",
    "\n",
    "rounded_ratings = trimmed_reviews['rating'].apply(round_rating)\n",
    "rating_bargraph = sns.countplot(\n",
    "    x=rounded_ratings.astype(int),\n",
    "    ax=axes[1]\n",
    ")\n",
    "rating_bargraph.set(xlabel='Rounded Rating', ylabel='Frequency')\n",
    "plt.suptitle('Ratings Within User Reviews')\n",
    "plt.show()"
   ]
  },
  {
   "cell_type": "markdown",
   "metadata": {},
   "source": [
    "The violin plot determines ratings beyond the approximate interval [7.5, 11] as outliers\n",
    "and shows the median of the ratings to be 10. On a side note, both show that the mode of the ratings is 10 and that ratings are left-skewed and tend to be higher."
   ]
  },
  {
   "cell_type": "code",
   "execution_count": null,
   "metadata": {},
   "outputs": [],
   "source": [
    "corpus = ' '.join(review_data.loc[review_data['recommends_game'] == True, 'user_review'])\n",
    "graph_word_cloud(corpus)"
   ]
  }
 ],
 "metadata": {
  "kernelspec": {
   "display_name": "Python 3",
   "language": "python",
   "name": "python3"
  },
  "language_info": {
   "codemirror_mode": {
    "name": "ipython",
    "version": 3
   },
   "file_extension": ".py",
   "mimetype": "text/x-python",
   "name": "python",
   "nbconvert_exporter": "python",
   "pygments_lexer": "ipython3",
   "version": "3.6.6"
  }
 },
 "nbformat": 4,
 "nbformat_minor": 2
}
