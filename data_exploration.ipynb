{
 "cells": [
  {
   "cell_type": "code",
   "execution_count": 1,
   "metadata": {},
   "outputs": [],
   "source": [
    "import sqlalchemy\n",
    "import pandas as pd\n",
    "import numpy as np\n",
    "from database_credentials import get_database_url"
   ]
  },
  {
   "cell_type": "code",
   "execution_count": 2,
   "metadata": {},
   "outputs": [],
   "source": [
    "def check_for_missing_values(data):\n",
    "    '''Print whether or not a dataframe contains missing data \n",
    "    along with the number of missing entries\n",
    "    \n",
    "    Args:\n",
    "        data (dataframe): dataframe to be checked\n",
    "        \n",
    "    Returns:\n",
    "        None\n",
    "    '''\n",
    "    \n",
    "    valid_mask = data.isnull()\n",
    "    data_contains_missing_values = valid_mask.any().any()\n",
    "    print(\"Contains missing values:\", data_contains_missing_values)\n",
    "\n",
    "    if (data_contains_missing_values):\n",
    "        number_of_missing_values = valid_mask.sum().sum()\n",
    "        print(\"Number of missing values:\", number_of_missing_values)\n",
    "    \n",
    "def check_for_duplicate_ids(data):\n",
    "    '''Print whether or not a dataframe contains duplicate \n",
    "    Steam IDs along with the number of duplicates\n",
    "    \n",
    "    Args:\n",
    "        data (dataframe): dataframe to be checked\n",
    "        \n",
    "    Returns:\n",
    "        None\n",
    "    '''\n",
    "    \n",
    "    unique_id_mask = data['steam_id'].duplicated()\n",
    "    data_contains_duplicates = unique_id_mask.any()\n",
    "    print(\"Contains duplicate Steam IDs:\", data_contains_duplicates)\n",
    "\n",
    "    if (data_contains_duplicates):\n",
    "        number_of_duplicates = len(data[unique_id_mask])\n",
    "        print(\"Number of duplicated Steam IDs:\", number_of_duplicates)\n",
    "        \n",
    "def display_info(data):\n",
    "    '''Display the column names, number of rows, and information \n",
    "    regarding missing or duplicate values for a dataframe\n",
    "    \n",
    "    Args:\n",
    "        data (dataframe): dataframe for which information will\n",
    "                          be displayed\n",
    "    Returns:\n",
    "        None\n",
    "    '''\n",
    "    \n",
    "    print(\"Features: {0}\\n\".format(data.columns.values))\n",
    "    print(\"Number of rows: {0}\\n\".format(data.shape[0]))\n",
    "    check_for_missing_values(data)\n",
    "    print()\n",
    "    check_for_duplicate_ids(data)\n",
    "        \n",
    "def mask_duplicate_ids(data):\n",
    "    '''Mask rows containing duplicate Steam IDs\n",
    "    \n",
    "    Args:\n",
    "        data (dataframe): dataframe with duplicate Steam IDs\n",
    "\n",
    "    Returns:\n",
    "        masked_data (dataframe): a copy of data without duplicate\n",
    "                                 Steam IDs\n",
    "    '''\n",
    "    \n",
    "    duplicate_id_mask = ~data['steam_id'].duplicated()\n",
    "    masked_data = data[duplicate_id_mask]\n",
    "    return masked_data"
   ]
  },
  {
   "cell_type": "code",
   "execution_count": 3,
   "metadata": {},
   "outputs": [],
   "source": [
    "# connect to database\n",
    "database_url = get_database_url()\n",
    "engine = sqlalchemy.create_engine(database_url)\n",
    "connection = engine.connect() "
   ]
  },
  {
   "cell_type": "code",
   "execution_count": 4,
   "metadata": {},
   "outputs": [],
   "source": [
    "# load data\n",
    "review_query = '''\n",
    "    SELECT \n",
    "        steam_id,\n",
    "        user_review,\n",
    "        FROM_UNIXTIME(timestamp_updated) AS timestamp_updated,\n",
    "        recommends_game\n",
    "    FROM reviews;\n",
    "'''\n",
    "reviews = pd.read_sql(review_query, connection)\n",
    "\n",
    "user_query = '''\n",
    "    SELECT \n",
    "        steam_id,\n",
    "        CEIL(total_minutes_played / 60) AS total_hours_played,\n",
    "        FROM_UNIXTIME(timestamp_last_played) AS timestamp_last_played\n",
    "    FROM users;\n",
    "'''\n",
    "users = pd.read_sql(user_query, connection)"
   ]
  },
  {
   "cell_type": "code",
   "execution_count": 5,
   "metadata": {},
   "outputs": [
    {
     "data": {
      "text/html": [
       "<div>\n",
       "<style scoped>\n",
       "    .dataframe tbody tr th:only-of-type {\n",
       "        vertical-align: middle;\n",
       "    }\n",
       "\n",
       "    .dataframe tbody tr th {\n",
       "        vertical-align: top;\n",
       "    }\n",
       "\n",
       "    .dataframe thead th {\n",
       "        text-align: right;\n",
       "    }\n",
       "</style>\n",
       "<table border=\"1\" class=\"dataframe\">\n",
       "  <thead>\n",
       "    <tr style=\"text-align: right;\">\n",
       "      <th></th>\n",
       "      <th>steam_id</th>\n",
       "      <th>user_review</th>\n",
       "      <th>timestamp_updated</th>\n",
       "      <th>recommends_game</th>\n",
       "    </tr>\n",
       "  </thead>\n",
       "  <tbody>\n",
       "    <tr>\n",
       "      <th>0</th>\n",
       "      <td>76561198109804262</td>\n",
       "      <td>The Game is smooth with great graphics. It sho...</td>\n",
       "      <td>2015-01-14 08:40:12</td>\n",
       "      <td>1</td>\n",
       "    </tr>\n",
       "    <tr>\n",
       "      <th>1</th>\n",
       "      <td>76561198144109929</td>\n",
       "      <td>AMAZING Best thing ever. Great graphics for a ...</td>\n",
       "      <td>2015-01-14 06:02:29</td>\n",
       "      <td>1</td>\n",
       "    </tr>\n",
       "    <tr>\n",
       "      <th>2</th>\n",
       "      <td>76561198074106169</td>\n",
       "      <td>Best f2p game out there</td>\n",
       "      <td>2015-01-14 03:20:10</td>\n",
       "      <td>1</td>\n",
       "    </tr>\n",
       "  </tbody>\n",
       "</table>\n",
       "</div>"
      ],
      "text/plain": [
       "            steam_id                                        user_review  \\\n",
       "0  76561198109804262  The Game is smooth with great graphics. It sho...   \n",
       "1  76561198144109929  AMAZING Best thing ever. Great graphics for a ...   \n",
       "2  76561198074106169                            Best f2p game out there   \n",
       "\n",
       "    timestamp_updated  recommends_game  \n",
       "0 2015-01-14 08:40:12                1  \n",
       "1 2015-01-14 06:02:29                1  \n",
       "2 2015-01-14 03:20:10                1  "
      ]
     },
     "metadata": {},
     "output_type": "display_data"
    },
    {
     "name": "stdout",
     "output_type": "stream",
     "text": [
      "Features: ['steam_id' 'user_review' 'timestamp_updated' 'recommends_game']\n",
      "\n",
      "Number of rows: 149999\n",
      "\n",
      "Contains missing values: False\n",
      "\n",
      "Contains duplicate Steam IDs: True\n",
      "Number of duplicated Steam IDs: 3\n"
     ]
    }
   ],
   "source": [
    "display(reviews.head(3))\n",
    "display_info(reviews)"
   ]
  },
  {
   "cell_type": "code",
   "execution_count": 6,
   "metadata": {},
   "outputs": [
    {
     "data": {
      "text/html": [
       "<div>\n",
       "<style scoped>\n",
       "    .dataframe tbody tr th:only-of-type {\n",
       "        vertical-align: middle;\n",
       "    }\n",
       "\n",
       "    .dataframe tbody tr th {\n",
       "        vertical-align: top;\n",
       "    }\n",
       "\n",
       "    .dataframe thead th {\n",
       "        text-align: right;\n",
       "    }\n",
       "</style>\n",
       "<table border=\"1\" class=\"dataframe\">\n",
       "  <thead>\n",
       "    <tr style=\"text-align: right;\">\n",
       "      <th></th>\n",
       "      <th>steam_id</th>\n",
       "      <th>total_hours_played</th>\n",
       "      <th>timestamp_last_played</th>\n",
       "    </tr>\n",
       "  </thead>\n",
       "  <tbody>\n",
       "    <tr>\n",
       "      <th>0</th>\n",
       "      <td>76561198109804262</td>\n",
       "      <td>1007</td>\n",
       "      <td>2019-05-07 04:44:48</td>\n",
       "    </tr>\n",
       "    <tr>\n",
       "      <th>1</th>\n",
       "      <td>76561198144109929</td>\n",
       "      <td>157</td>\n",
       "      <td>2020-01-07 19:00:17</td>\n",
       "    </tr>\n",
       "    <tr>\n",
       "      <th>2</th>\n",
       "      <td>76561198074106169</td>\n",
       "      <td>238</td>\n",
       "      <td>2019-10-25 14:07:33</td>\n",
       "    </tr>\n",
       "  </tbody>\n",
       "</table>\n",
       "</div>"
      ],
      "text/plain": [
       "            steam_id  total_hours_played timestamp_last_played\n",
       "0  76561198109804262                1007   2019-05-07 04:44:48\n",
       "1  76561198144109929                 157   2020-01-07 19:00:17\n",
       "2  76561198074106169                 238   2019-10-25 14:07:33"
      ]
     },
     "metadata": {},
     "output_type": "display_data"
    },
    {
     "name": "stdout",
     "output_type": "stream",
     "text": [
      "Features: ['steam_id' 'total_hours_played' 'timestamp_last_played']\n",
      "\n",
      "Number of rows: 149999\n",
      "\n",
      "Contains missing values: False\n",
      "\n",
      "Contains duplicate Steam IDs: True\n",
      "Number of duplicated Steam IDs: 3\n"
     ]
    }
   ],
   "source": [
    "display(users.head(3))\n",
    "display_info(users)"
   ]
  },
  {
   "cell_type": "code",
   "execution_count": 7,
   "metadata": {},
   "outputs": [],
   "source": [
    "reviews = mask_duplicate_ids(reviews)\n",
    "users = mask_duplicate_ids(users)"
   ]
  }
 ],
 "metadata": {
  "kernelspec": {
   "display_name": "Python 3",
   "language": "python",
   "name": "python3"
  },
  "language_info": {
   "codemirror_mode": {
    "name": "ipython",
    "version": 3
   },
   "file_extension": ".py",
   "mimetype": "text/x-python",
   "name": "python",
   "nbconvert_exporter": "python",
   "pygments_lexer": "ipython3",
   "version": "3.6.6"
  }
 },
 "nbformat": 4,
 "nbformat_minor": 2
}
