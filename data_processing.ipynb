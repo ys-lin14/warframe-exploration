{
 "cells": [
  {
   "cell_type": "code",
   "execution_count": 3,
   "metadata": {},
   "outputs": [],
   "source": [
    "import sqlalchemy\n",
    "import pandas as pd\n",
    "import numpy as np\n",
    "import dtale\n",
    "from database_url import get_database_url"
   ]
  },
  {
   "cell_type": "code",
   "execution_count": null,
   "metadata": {},
   "outputs": [],
   "source": [
    "database_url = get_database_url()\n",
    "engine = sqlalchemy.create_engine(database_url)\n",
    "connection = engine.connect()"
   ]
  },
  {
   "cell_type": "code",
   "execution_count": 6,
   "metadata": {},
   "outputs": [],
   "source": [
    "reviews = pd.read_sql('reviews', connection)\n",
    "users = pd.read_sql('users', connection)"
   ]
  },
  {
   "cell_type": "code",
   "execution_count": 9,
   "metadata": {},
   "outputs": [
    {
     "data": {
      "text/html": [
       "<div>\n",
       "<style scoped>\n",
       "    .dataframe tbody tr th:only-of-type {\n",
       "        vertical-align: middle;\n",
       "    }\n",
       "\n",
       "    .dataframe tbody tr th {\n",
       "        vertical-align: top;\n",
       "    }\n",
       "\n",
       "    .dataframe thead th {\n",
       "        text-align: right;\n",
       "    }\n",
       "</style>\n",
       "<table border=\"1\" class=\"dataframe\">\n",
       "  <thead>\n",
       "    <tr style=\"text-align: right;\">\n",
       "      <th></th>\n",
       "      <th>steam_id</th>\n",
       "      <th>user_review</th>\n",
       "      <th>timestamp_updated</th>\n",
       "      <th>recommends_game</th>\n",
       "    </tr>\n",
       "  </thead>\n",
       "  <tbody>\n",
       "    <tr>\n",
       "      <th>0</th>\n",
       "      <td>76561197960267197</td>\n",
       "      <td>Uh yeah, it's a grind, all you do is grind, th...</td>\n",
       "      <td>1542967184</td>\n",
       "      <td>1</td>\n",
       "    </tr>\n",
       "    <tr>\n",
       "      <th>1</th>\n",
       "      <td>76561197960270134</td>\n",
       "      <td>Great game so far.</td>\n",
       "      <td>1542903778</td>\n",
       "      <td>1</td>\n",
       "    </tr>\n",
       "    <tr>\n",
       "      <th>2</th>\n",
       "      <td>76561197960270526</td>\n",
       "      <td>Do you like the idea of magic ninjas in space ...</td>\n",
       "      <td>1533732061</td>\n",
       "      <td>1</td>\n",
       "    </tr>\n",
       "    <tr>\n",
       "      <th>3</th>\n",
       "      <td>76561197960270855</td>\n",
       "      <td>A F2P shooter that's constantly updated and re...</td>\n",
       "      <td>1574830549</td>\n",
       "      <td>1</td>\n",
       "    </tr>\n",
       "    <tr>\n",
       "      <th>4</th>\n",
       "      <td>76561197960271528</td>\n",
       "      <td>ASDASD</td>\n",
       "      <td>1408328111</td>\n",
       "      <td>0</td>\n",
       "    </tr>\n",
       "  </tbody>\n",
       "</table>\n",
       "</div>"
      ],
      "text/plain": [
       "            steam_id                                        user_review  \\\n",
       "0  76561197960267197  Uh yeah, it's a grind, all you do is grind, th...   \n",
       "1  76561197960270134                                 Great game so far.   \n",
       "2  76561197960270526  Do you like the idea of magic ninjas in space ...   \n",
       "3  76561197960270855  A F2P shooter that's constantly updated and re...   \n",
       "4  76561197960271528                                             ASDASD   \n",
       "\n",
       "   timestamp_updated  recommends_game  \n",
       "0         1542967184                1  \n",
       "1         1542903778                1  \n",
       "2         1533732061                1  \n",
       "3         1574830549                1  \n",
       "4         1408328111                0  "
      ]
     },
     "metadata": {},
     "output_type": "display_data"
    },
    {
     "data": {
      "text/html": [
       "<div>\n",
       "<style scoped>\n",
       "    .dataframe tbody tr th:only-of-type {\n",
       "        vertical-align: middle;\n",
       "    }\n",
       "\n",
       "    .dataframe tbody tr th {\n",
       "        vertical-align: top;\n",
       "    }\n",
       "\n",
       "    .dataframe thead th {\n",
       "        text-align: right;\n",
       "    }\n",
       "</style>\n",
       "<table border=\"1\" class=\"dataframe\">\n",
       "  <thead>\n",
       "    <tr style=\"text-align: right;\">\n",
       "      <th></th>\n",
       "      <th>steam_id</th>\n",
       "      <th>total_playtime</th>\n",
       "      <th>playtime_last_two_weeks</th>\n",
       "      <th>last_played</th>\n",
       "    </tr>\n",
       "  </thead>\n",
       "  <tbody>\n",
       "    <tr>\n",
       "      <th>0</th>\n",
       "      <td>76561197960267197</td>\n",
       "      <td>157371</td>\n",
       "      <td>1699</td>\n",
       "      <td>1582903925</td>\n",
       "    </tr>\n",
       "    <tr>\n",
       "      <th>1</th>\n",
       "      <td>76561197960270134</td>\n",
       "      <td>38</td>\n",
       "      <td>0</td>\n",
       "      <td>1531892487</td>\n",
       "    </tr>\n",
       "    <tr>\n",
       "      <th>2</th>\n",
       "      <td>76561197960270526</td>\n",
       "      <td>64073</td>\n",
       "      <td>0</td>\n",
       "      <td>1576261576</td>\n",
       "    </tr>\n",
       "    <tr>\n",
       "      <th>3</th>\n",
       "      <td>76561197960270855</td>\n",
       "      <td>175714</td>\n",
       "      <td>1014</td>\n",
       "      <td>1582863293</td>\n",
       "    </tr>\n",
       "    <tr>\n",
       "      <th>4</th>\n",
       "      <td>76561197960271528</td>\n",
       "      <td>464</td>\n",
       "      <td>0</td>\n",
       "      <td>1508016259</td>\n",
       "    </tr>\n",
       "  </tbody>\n",
       "</table>\n",
       "</div>"
      ],
      "text/plain": [
       "            steam_id  total_playtime  playtime_last_two_weeks  last_played\n",
       "0  76561197960267197          157371                     1699   1582903925\n",
       "1  76561197960270134              38                        0   1531892487\n",
       "2  76561197960270526           64073                        0   1576261576\n",
       "3  76561197960270855          175714                     1014   1582863293\n",
       "4  76561197960271528             464                        0   1508016259"
      ]
     },
     "metadata": {},
     "output_type": "display_data"
    }
   ],
   "source": [
    "display(reviews.head())\n",
    "display(users.head())"
   ]
  }
 ],
 "metadata": {
  "kernelspec": {
   "display_name": "Python 3",
   "language": "python",
   "name": "python3"
  },
  "language_info": {
   "codemirror_mode": {
    "name": "ipython",
    "version": 3
   },
   "file_extension": ".py",
   "mimetype": "text/x-python",
   "name": "python",
   "nbconvert_exporter": "python",
   "pygments_lexer": "ipython3",
   "version": "3.6.6"
  }
 },
 "nbformat": 4,
 "nbformat_minor": 2
}
