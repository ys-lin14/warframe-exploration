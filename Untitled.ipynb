{
 "cells": [
  {
   "cell_type": "code",
   "execution_count": 44,
   "metadata": {},
   "outputs": [],
   "source": [
    "import requests\n",
    "import json\n",
    "import urllib.parse\n",
    "import pandas as pd\n",
    "import sqlalchemy"
   ]
  },
  {
   "cell_type": "code",
   "execution_count": 36,
   "metadata": {},
   "outputs": [],
   "source": [
    "# game_id = 230410\n",
    "# day_range https://www.reddit.com/r/devsteam/comments/7qxjho/steam_api_user_reviews_query/\n",
    "base_url = ('https://store.steampowered.com/appreviews/'\n",
    "            '230410?'\n",
    "            'json=1&'\n",
    "            'language=\"english\"&'\n",
    "            'day_range=9223372036854775807&'\n",
    "            'num_per_page=100&'\n",
    "            'cursor=')\n",
    "\n",
    "url = base_url + '*'"
   ]
  },
  {
   "cell_type": "code",
   "execution_count": 37,
   "metadata": {},
   "outputs": [],
   "source": [
    "request = requests.get(url)\n",
    "json_data = json.loads(request.text)"
   ]
  },
  {
   "cell_type": "code",
   "execution_count": 42,
   "metadata": {},
   "outputs": [
    {
     "name": "stdout",
     "output_type": "stream",
     "text": [
      "1\n",
      "100\n",
      "AoIIPwYYan6wmXM%3D\n"
     ]
    }
   ],
   "source": [
    "print(json_data['success'])\n",
    "print(json_data['query_summary'])  # ['num_reviews']\n",
    "# print(json_data['reviews'])\n",
    "print(urllib.parse.quote(json_data['cursor']))"
   ]
  }
 ],
 "metadata": {
  "kernelspec": {
   "display_name": "Python 3",
   "language": "python",
   "name": "python3"
  },
  "language_info": {
   "codemirror_mode": {
    "name": "ipython",
    "version": 3
   },
   "file_extension": ".py",
   "mimetype": "text/x-python",
   "name": "python",
   "nbconvert_exporter": "python",
   "pygments_lexer": "ipython3",
   "version": "3.6.6"
  }
 },
 "nbformat": 4,
 "nbformat_minor": 2
}
